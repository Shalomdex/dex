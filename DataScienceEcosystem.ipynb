{
 "cells": [
  {
   "cell_type": "markdown",
   "id": "bde1ceec-c8f0-4a04-b844-eef9643abf97",
   "metadata": {},
   "source": [
    "# Data Science Tools and Ecosystem"
   ]
  },
  {
   "cell_type": "markdown",
   "id": "82c86cbf-fb41-4aa0-9858-4b99205e252b",
   "metadata": {},
   "source": [
    "# In this notebook, Data Science Tools and Ecosystem are summarized."
   ]
  },
  {
   "cell_type": "markdown",
   "id": "c31e5692-bb8b-4a97-adea-5f9c115fd1e3",
   "metadata": {},
   "source": [
    "# Some of the popular languages that Data Scientists use are:\n",
    "1. Python\n",
    "2. R\n",
    "3. SQL\n",
    "4. JAVA\n"
   ]
  },
  {
   "attachments": {},
   "cell_type": "markdown",
   "id": "6c5c8ece-f125-4bea-8c58-f609eb4601d1",
   "metadata": {},
   "source": [
    "## Objectives:\n",
    "* List popular languages for Data Science\n",
    "* List commonly used libraries used bt Data Scientists\n",
    "* Evaluate arithmetic expressions using python"
   ]
  },
  {
   "cell_type": "markdown",
   "id": "9331460e-7dbc-4fe9-96e2-a5f6297f3d50",
   "metadata": {},
   "source": [
    "# Some of the commonly used libraries used by Data Scientists include:\n",
    "1. Numpy\n",
    "2. ggplot\n",
    "3. Pandas\n",
    "4. Scikitlearn\n",
    "5. SciPy"
   ]
  },
  {
   "cell_type": "markdown",
   "id": "6f05bd89-bd24-4ad9-a555-7901e8e9b46c",
   "metadata": {},
   "source": [
    "| Data Science Tools |\n",
    "| -------------------|\n",
    "| RStudio            |\n",
    "| JupyterLab         |\n",
    "| Git                |"
   ]
  },
  {
   "cell_type": "markdown",
   "id": "5cd98667-4723-4477-8ef4-04c81d9f9f31",
   "metadata": {},
   "source": [
    "### Below are a few examples of evaluating arithmetic expressions in Python:\n",
    "1. (3*4)^2\n",
    "2. 2+3*(2)"
   ]
  },
  {
   "cell_type": "code",
   "execution_count": 2,
   "id": "ca84bf09-730b-4c63-bf67-e5ffa4c01725",
   "metadata": {},
   "outputs": [
    {
     "data": {
      "text/plain": [
       "17"
      ]
     },
     "execution_count": 2,
     "metadata": {},
     "output_type": "execute_result"
    }
   ],
   "source": [
    "# This a simple arithmetic expression to mutiply then add integers\n",
    "(3*4)+5"
   ]
  },
  {
   "cell_type": "code",
   "execution_count": 3,
   "id": "56287267-7e95-4eb3-b519-97a9dd0d2d18",
   "metadata": {},
   "outputs": [
    {
     "name": "stdout",
     "output_type": "stream",
     "text": [
      "200 minutes is equal to 3.33 hours.\n"
     ]
    }
   ],
   "source": [
    " # This will convert 200 minutes to hours by diving by 60\n",
    "# Number of minutes\n",
    "minutes = 200\n",
    "\n",
    "# Convert minutes to hours\n",
    "hours = minutes / 60\n",
    "\n",
    "# Print the result\n",
    "print(f\"{minutes} minutes is equal to {hours:.2f} hours.\")\n"
   ]
  },
  {
   "cell_type": "markdown",
   "id": "433a2c41-c12b-4bff-a2b8-4f03a308334c",
   "metadata": {},
   "source": [
    "## Author \n",
    "Adejobi Shalom Adeboye"
   ]
  },
  {
   "cell_type": "code",
   "execution_count": null,
   "id": "a200ffab-55a5-46bd-975b-c9d9dfe36d6e",
   "metadata": {},
   "outputs": [],
   "source": []
  }
 ],
 "metadata": {
  "kernelspec": {
   "display_name": "Python 3 (ipykernel)",
   "language": "python",
   "name": "python3"
  },
  "language_info": {
   "codemirror_mode": {
    "name": "ipython",
    "version": 3
   },
   "file_extension": ".py",
   "mimetype": "text/x-python",
   "name": "python",
   "nbconvert_exporter": "python",
   "pygments_lexer": "ipython3",
   "version": "3.11.2"
  }
 },
 "nbformat": 4,
 "nbformat_minor": 5
}
